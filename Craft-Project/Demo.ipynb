{
 "cells": [
  {
   "cell_type": "markdown",
   "metadata": {},
   "source": [
    "# Intuit Craft Project Demo --- Queries\n"
   ]
  },
  {
   "cell_type": "code",
   "execution_count": 1,
   "metadata": {
    "collapsed": true
   },
   "outputs": [],
   "source": [
    "#import requried modules and libraries\n",
    "import parser\n",
    "import pprint"
   ]
  },
  {
   "cell_type": "code",
   "execution_count": 2,
   "metadata": {
    "collapsed": false
   },
   "outputs": [],
   "source": [
    "#File location\n",
    "DATAFILE='./data.txt'\n"
   ]
  },
  {
   "cell_type": "markdown",
   "metadata": {},
   "source": [
    "Parse and upload the data into our MongoDb collection named \"data\""
   ]
  },
  {
   "cell_type": "markdown",
   "metadata": {},
   "source": [
    "a. By using the shell command \n",
    "mongoimport --db test --collection logs --type json --file test.txt --jsonArray;\n",
    "\n",
    "b. Using our parser "
   ]
  },
  {
   "cell_type": "code",
   "execution_count": 3,
   "metadata": {
    "collapsed": false
   },
   "outputs": [
    {
     "name": "stdout",
     "output_type": "stream",
     "text": [
      "Complete: Total 100 docs uploaded\n"
     ]
    }
   ],
   "source": [
    "reload(parser)\n",
    "parser.upload_file_data(DATAFILE)"
   ]
  },
  {
   "cell_type": "code",
   "execution_count": 4,
   "metadata": {
    "collapsed": true
   },
   "outputs": [],
   "source": [
    "#Get the DB from mongo dbo\n",
    "db=parser.get_db('intuit')"
   ]
  },
  {
   "cell_type": "markdown",
   "metadata": {},
   "source": [
    "1 -  Let us look at counts from collection"
   ]
  },
  {
   "cell_type": "code",
   "execution_count": 5,
   "metadata": {
    "collapsed": false
   },
   "outputs": [
    {
     "data": {
      "text/plain": [
       "100"
      ]
     },
     "execution_count": 5,
     "metadata": {},
     "output_type": "execute_result"
    }
   ],
   "source": [
    "db.data.count()"
   ]
  },
  {
   "cell_type": "markdown",
   "metadata": {},
   "source": [
    "2 - Let us look at some sample docs from database"
   ]
  },
  {
   "cell_type": "code",
   "execution_count": 6,
   "metadata": {
    "collapsed": false
   },
   "outputs": [
    {
     "name": "stdout",
     "output_type": "stream",
     "text": [
      "{u'_id': u'57f69a76d78f77a646fe81ae',\n",
      " u'address': {u'city': u' Jenkinsville',\n",
      "              u'state': u' New Jersey',\n",
      "              u'street': u'112 Flatbush Avenue',\n",
      "              u'zip': 965},\n",
      " u'age': 21,\n",
      " u'balance': 1104.81,\n",
      " u'company': u'ZANYMAX',\n",
      " u'email': u'walkerpennington@zanymax.com',\n",
      " u'gender': u'male',\n",
      " u'isActive': False,\n",
      " u'name': {u'first': u'Walker', u'last': u'Pennington'},\n",
      " u'phone': u'+1 (818) 423-2380',\n",
      " u'picture': u'http://placehold.it/32x32'}\n",
      "---------------------------------------\n",
      "{u'_id': u'57f69a76b8bf460ff346eca5',\n",
      " u'address': {u'city': u' Garnet',\n",
      "              u'state': u' New Hampshire',\n",
      "              u'street': u'984 Evergreen Avenue',\n",
      "              u'zip': 2259},\n",
      " u'age': 20,\n",
      " u'balance': 1286.44,\n",
      " u'company': u'JOVIOLD',\n",
      " u'email': u'byershuffman@joviold.com',\n",
      " u'gender': u'male',\n",
      " u'isActive': True,\n",
      " u'name': {u'first': u'Byers', u'last': u'Huffman'},\n",
      " u'phone': u'+1 (929) 582-3633',\n",
      " u'picture': u'http://placehold.it/32x32'}\n",
      "---------------------------------------\n"
     ]
    }
   ],
   "source": [
    "cursor=db.data.find().limit(2)\n",
    "for result in cursor:\n",
    "    pprint.pprint(result)\n",
    "    print '---------------------------------------'"
   ]
  },
  {
   "cell_type": "markdown",
   "metadata": {},
   "source": [
    "3 - Lets look at basic querries values"
   ]
  },
  {
   "cell_type": "code",
   "execution_count": 7,
   "metadata": {
    "collapsed": false
   },
   "outputs": [
    {
     "name": "stdout",
     "output_type": "stream",
     "text": [
      "Disctinct ages are 21\n",
      "Disctinct gender are 2\n"
     ]
    }
   ],
   "source": [
    "print 'Disctinct ages are %s' %len(db.data.distinct('age'))\n",
    "print 'Disctinct gender are %s' %len(db.data.distinct('gender'))"
   ]
  },
  {
   "cell_type": "code",
   "execution_count": 8,
   "metadata": {
    "collapsed": false
   },
   "outputs": [
    {
     "name": "stdout",
     "output_type": "stream",
     "text": [
      "Disctinct states are 58\n"
     ]
    }
   ],
   "source": [
    "print 'Disctinct states are %s' %len(db.data.distinct('address.state'))"
   ]
  },
  {
   "cell_type": "code",
   "execution_count": 9,
   "metadata": {
    "collapsed": false
   },
   "outputs": [
    {
     "name": "stdout",
     "output_type": "stream",
     "text": [
      "Total Entries with active users are 52\n"
     ]
    }
   ],
   "source": [
    "print 'Total Entries with active users are %s' %db.data.count({'isActive':False})"
   ]
  },
  {
   "cell_type": "markdown",
   "metadata": {},
   "source": [
    "4 - Some aggregation results"
   ]
  },
  {
   "cell_type": "code",
   "execution_count": 10,
   "metadata": {
    "collapsed": false
   },
   "outputs": [
    {
     "name": "stdout",
     "output_type": "stream",
     "text": [
      "{u'_id': 26, u'count': 11}\n",
      "{u'_id': 21, u'count': 9}\n",
      "{u'_id': 25, u'count': 8}\n",
      "{u'_id': 31, u'count': 7}\n",
      "{u'_id': 32, u'count': 5}\n",
      "{u'_id': 36, u'count': 5}\n",
      "{u'_id': 34, u'count': 5}\n",
      "{u'_id': 33, u'count': 5}\n",
      "{u'_id': 35, u'count': 5}\n",
      "{u'_id': 23, u'count': 5}\n",
      "{u'_id': 29, u'count': 5}\n",
      "{u'_id': 27, u'count': 4}\n",
      "{u'_id': 24, u'count': 4}\n",
      "{u'_id': 39, u'count': 4}\n",
      "{u'_id': 37, u'count': 4}\n",
      "{u'_id': 30, u'count': 3}\n",
      "{u'_id': 22, u'count': 3}\n",
      "{u'_id': 28, u'count': 3}\n",
      "{u'_id': 38, u'count': 2}\n",
      "{u'_id': 20, u'count': 2}\n",
      "{u'_id': 40, u'count': 1}\n"
     ]
    }
   ],
   "source": [
    "pipe=[{'$group':  { '_id':  \"$age\", 'count':{ '$sum':  1 }}}, {'$sort':  { \"count\":  -1}}]\n",
    "result=db.data.aggregate(pipeline=pipe)\n",
    "for x in result:\n",
    "    pprint.pprint(x)"
   ]
  },
  {
   "cell_type": "markdown",
   "metadata": {},
   "source": []
  },
  {
   "cell_type": "code",
   "execution_count": 15,
   "metadata": {
    "collapsed": false
   },
   "outputs": [
    {
     "name": "stdout",
     "output_type": "stream",
     "text": [
      "People with age greater than 35 are : 69\n"
     ]
    }
   ],
   "source": [
    "print 'People with age greater than 35 are : %s' %db.data.count({\"age\": {\"$gt\": 25}})\n"
   ]
  },
  {
   "cell_type": "code",
   "execution_count": 12,
   "metadata": {
    "collapsed": false
   },
   "outputs": [
    {
     "name": "stdout",
     "output_type": "stream",
     "text": [
      "{u'_id': True, u'total': 118853.98000000001}\n",
      "{u'_id': False, u'total': 128905.18000000004}\n"
     ]
    }
   ],
   "source": [
    "pipe = [{'$group': {'_id': '$isActive', 'total': {'$sum': '$balance'}}}]\n",
    "result=db.data.aggregate(pipeline=pipe)\n",
    "for x in result:\n",
    "    pprint.pprint(x)"
   ]
  },
  {
   "cell_type": "markdown",
   "metadata": {},
   "source": [
    "5 - Find min or max"
   ]
  },
  {
   "cell_type": "code",
   "execution_count": 13,
   "metadata": {
    "collapsed": false
   },
   "outputs": [
    {
     "name": "stdout",
     "output_type": "stream",
     "text": [
      "Maximum balance is: 3995.96\n"
     ]
    }
   ],
   "source": [
    "print 'Maximum balance is: %s'% db.data.find_one(sort=[(\"balance\", -1)])[\"balance\"]"
   ]
  },
  {
   "cell_type": "code",
   "execution_count": 14,
   "metadata": {
    "collapsed": false
   },
   "outputs": [
    {
     "name": "stdout",
     "output_type": "stream",
     "text": [
      "Minimum balance is: 1032.09\n"
     ]
    }
   ],
   "source": [
    "print 'Minimum balance is: %s'% db.data.find_one(sort=[(\"balance\", 1)])[\"balance\"]"
   ]
  },
  {
   "cell_type": "code",
   "execution_count": null,
   "metadata": {
    "collapsed": true
   },
   "outputs": [],
   "source": []
  },
  {
   "cell_type": "code",
   "execution_count": null,
   "metadata": {
    "collapsed": true
   },
   "outputs": [],
   "source": []
  }
 ],
 "metadata": {
  "anaconda-cloud": {},
  "kernelspec": {
   "display_name": "Python [Root]",
   "language": "python",
   "name": "Python [Root]"
  },
  "language_info": {
   "codemirror_mode": {
    "name": "ipython",
    "version": 2
   },
   "file_extension": ".py",
   "mimetype": "text/x-python",
   "name": "python",
   "nbconvert_exporter": "python",
   "pygments_lexer": "ipython2",
   "version": "2.7.12"
  }
 },
 "nbformat": 4,
 "nbformat_minor": 0
}
